{
 "cells": [
  {
   "cell_type": "code",
   "execution_count": 2,
   "metadata": {},
   "outputs": [
    {
     "name": "stderr",
     "output_type": "stream",
     "text": [
      "\n",
      "\n",
      "====== WebDriver manager ======\n",
      "Current google-chrome version is 92.0.4515\n",
      "Get LATEST driver version for 92.0.4515\n",
      "Driver [/home/fawad4bros/.wdm/drivers/chromedriver/linux64/92.0.4515.107/chromedriver] found in cache\n"
     ]
    }
   ],
   "source": [
    "import smtplib\n",
    "from selenium import webdriver\n",
    "from webdriver_manager.chrome import ChromeDriverManager\n",
    "from selenium.webdriver.common.by import By\n",
    "from openpyxl import Workbook\n",
    "from email.message import EmailMessage\n",
    "driver = webdriver.Chrome(ChromeDriverManager().install())\n",
    "driver.maximize_window()\n",
    "driver.get(\"https://www.amazon.in/\")\n",
    "driver.implicitly_wait(10)\n",
    "driver.find_element(By.XPATH,\"//input[contains(@id,'searchtextbox')]\").send_keys(\"Samsung phones\")\n",
    "driver.find_element(By.XPATH,\"//input[@value='Go']\").click()\n",
    "driver.find_element(By.XPATH,\"//span[text()='Samsung']\").click()\n",
    "Phone_names = driver.find_elements(By.XPATH,\"//span[contains(@class,'a-text-normal')]\")\n",
    "Phone_price = driver.find_elements(By.XPATH,\"//span[contains(@class,'a-price-whole')]\")\n",
    "List_Phone_names = []\n",
    "List_Phone_prices = []\n",
    "for name in Phone_names:\n",
    "    List_Phone_names.append(name.text)\n",
    "for price in Phone_price:\n",
    "    List_Phone_prices.append(price.text)\n",
    "NameNprice = zip(List_Phone_names,List_Phone_prices)\n",
    "wb=Workbook()\n",
    "sh1=wb.active\n",
    "sh1.append(['Name','Price'])\n",
    "for x in list(NameNprice):\n",
    "    sh1.append(x)\n",
    "wb.save(\"FinalRecords.xlsx\")\n",
    "\n",
    "# msg=EmailMessage()\n",
    "# msg['Subject']='Testing'\n",
    "# msg['From']='fawad naeem'\n",
    "# msg['To']='fawad4bros@gmail.com,fawad4bro@gmail.com'\n",
    "# with open('EmailTemplete.txt') as myfile:\n",
    "#     data=myfile.read()\n",
    "#     msg.set_content(data)\n",
    "    \n",
    "# with open(\"FinalRecords.xlsx\",\"rb\") as f:\n",
    "#     file_data = f.read()\n",
    "#     file_name = f.name\n",
    "#     msg.add_attachment(file_data,maintype=\"application\",subtype=\"xlsx\",filename=\"file_name\")\n",
    "\n",
    "# with smtplib.SMTP_SSL('smtp.gmail.com',465) as server:\n",
    "#     server.login(\"fawad4bros@gmail.com\",\"fF@0616774920\")\n",
    "#     server.send_message(msg)\n",
    "# print(\"email sent !!!\")\n",
    "driver.quit()"
   ]
  },
  {
   "cell_type": "code",
   "execution_count": null,
   "metadata": {},
   "outputs": [],
   "source": []
  },
  {
   "cell_type": "code",
   "execution_count": null,
   "metadata": {},
   "outputs": [],
   "source": []
  }
 ],
 "metadata": {
  "kernelspec": {
   "display_name": "Python 3",
   "language": "python",
   "name": "python3"
  },
  "language_info": {
   "codemirror_mode": {
    "name": "ipython",
    "version": 3
   },
   "file_extension": ".py",
   "mimetype": "text/x-python",
   "name": "python",
   "nbconvert_exporter": "python",
   "pygments_lexer": "ipython3",
   "version": "3.6.9"
  }
 },
 "nbformat": 4,
 "nbformat_minor": 2
}
