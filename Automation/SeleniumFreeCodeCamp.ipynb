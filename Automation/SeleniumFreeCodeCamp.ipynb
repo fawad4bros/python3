{
 "cells": [
  {
   "cell_type": "raw",
   "metadata": {},
   "source": [
    "https://www.youtube.com/watch?v=j7VZsCCnptM&t=1450sdd"
   ]
  },
  {
   "cell_type": "code",
   "execution_count": null,
   "metadata": {},
   "outputs": [],
   "source": [
    "import os\n",
    "from selenium import webdriver\n",
    "os.environ['PATH'] += r\"C:/SeleniumDrivers\"\n",
    "driver = webdriver.Chrome()\n",
    "driver.get(\"https://www.seleniumeasy.com/test/jquery-download-progress-bar-demo.html\")\n",
    "driver.implicitly_wait(8)\n",
    "my_element = driver.find_element_by_id('downloadButton')\n",
    "my_element.click()\n",
    "progress_element = driver.find_element_by_class_name('progress-label')\n",
    "print(f\"{progress_element.text == 'completed!'}\")"
   ]
  },
  {
   "cell_type": "code",
   "execution_count": null,
   "metadata": {},
   "outputs": [],
   "source": []
  }
 ],
 "metadata": {
  "kernelspec": {
   "display_name": "Python 3",
   "language": "python",
   "name": "python3"
  },
  "language_info": {
   "codemirror_mode": {
    "name": "ipython",
    "version": 3
   },
   "file_extension": ".py",
   "mimetype": "text/x-python",
   "name": "python",
   "nbconvert_exporter": "python",
   "pygments_lexer": "ipython3",
   "version": "3.6.9"
  }
 },
 "nbformat": 4,
 "nbformat_minor": 2
}
